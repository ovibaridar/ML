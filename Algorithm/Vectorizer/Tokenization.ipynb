{
 "cells": [
  {
   "cell_type": "code",
   "execution_count": 59,
   "id": "c2a0635a",
   "metadata": {},
   "outputs": [],
   "source": [
    "import pandas as pd"
   ]
  },
  {
   "cell_type": "code",
   "execution_count": 60,
   "id": "f429026d",
   "metadata": {},
   "outputs": [],
   "source": [
    "import nltk"
   ]
  },
  {
   "cell_type": "code",
   "execution_count": 61,
   "id": "a4e5c6ae",
   "metadata": {},
   "outputs": [],
   "source": [
    "words = ['change', 'changing', 'changes', 'changed', 'changer', 'changeable', 'unchanged', 'unchanging', 'unchangeable', 'changingly', 'changeress']"
   ]
  },
  {
   "cell_type": "code",
   "execution_count": 62,
   "id": "bd5a63a5",
   "metadata": {},
   "outputs": [],
   "source": [
    "from nltk.stem import PorterStemmer ,WordNetLemmatizer\n",
    "from nltk.tokenize import word_tokenize ,sent_tokenize"
   ]
  },
  {
   "cell_type": "code",
   "execution_count": 63,
   "id": "2f2383a6",
   "metadata": {
    "scrolled": false
   },
   "outputs": [
    {
     "name": "stdout",
     "output_type": "stream",
     "text": [
      "change chang\n",
      "changing chang\n",
      "changes chang\n",
      "changed chang\n",
      "changer changer\n",
      "changeable changeabl\n",
      "unchanged unchang\n",
      "unchanging unchang\n",
      "unchangeable unchang\n",
      "changingly changingli\n",
      "changeress changeress\n"
     ]
    }
   ],
   "source": [
    "for w in words:\n",
    "    print(w , PorterStemmer().stem(w))"
   ]
  },
  {
   "cell_type": "code",
   "execution_count": 64,
   "id": "6f506c6e",
   "metadata": {},
   "outputs": [
    {
     "name": "stdout",
     "output_type": "stream",
     "text": [
      "change change\n",
      "changing changing\n",
      "changes change\n",
      "changed changed\n",
      "changer changer\n",
      "changeable changeable\n",
      "unchanged unchanged\n",
      "unchanging unchanging\n",
      "unchangeable unchangeable\n",
      "changingly changingly\n",
      "changeress changeress\n"
     ]
    }
   ],
   "source": [
    "for w in words:\n",
    "    print(w , WordNetLemmatizer().lemmatize(w))"
   ]
  },
  {
   "cell_type": "code",
   "execution_count": 65,
   "id": "76b172db",
   "metadata": {},
   "outputs": [],
   "source": [
    "sentence = \"My name is ovi\""
   ]
  },
  {
   "cell_type": "code",
   "execution_count": 66,
   "id": "e4d84dd4",
   "metadata": {},
   "outputs": [
    {
     "data": {
      "text/plain": [
       "['My', 'name', 'is', 'ovi']"
      ]
     },
     "execution_count": 66,
     "metadata": {},
     "output_type": "execute_result"
    }
   ],
   "source": [
    "token  = word_tokenize(sentence)\n",
    "token"
   ]
  },
  {
   "cell_type": "code",
   "execution_count": 71,
   "id": "b673cb4e",
   "metadata": {},
   "outputs": [],
   "source": [
    "sentence = \"my name is ovi . and i am from jaipurhat. It is fascinating!\""
   ]
  },
  {
   "cell_type": "code",
   "execution_count": 72,
   "id": "f2f6be68",
   "metadata": {},
   "outputs": [
    {
     "data": {
      "text/plain": [
       "['my name is ovi .', 'and i am from jaipurhat.', 'It is fascinating!']"
      ]
     },
     "execution_count": 72,
     "metadata": {},
     "output_type": "execute_result"
    }
   ],
   "source": [
    "tokens  = sent_tokenize(sentence)\n",
    "tokens"
   ]
  },
  {
   "cell_type": "code",
   "execution_count": null,
   "id": "380ee95e",
   "metadata": {},
   "outputs": [],
   "source": []
  }
 ],
 "metadata": {
  "kernelspec": {
   "display_name": "Python 3 (ipykernel)",
   "language": "python",
   "name": "python3"
  },
  "language_info": {
   "codemirror_mode": {
    "name": "ipython",
    "version": 3
   },
   "file_extension": ".py",
   "mimetype": "text/x-python",
   "name": "python",
   "nbconvert_exporter": "python",
   "pygments_lexer": "ipython3",
   "version": "3.11.5"
  }
 },
 "nbformat": 4,
 "nbformat_minor": 5
}
