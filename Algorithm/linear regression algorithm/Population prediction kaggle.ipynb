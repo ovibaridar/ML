{
 "cells": [
  {
   "cell_type": "code",
   "execution_count": 2,
   "id": "465c4759-18c3-4c82-8c45-06ba5916ca14",
   "metadata": {
    "tags": []
   },
   "outputs": [],
   "source": [
    "import pandas as pd"
   ]
  },
  {
   "cell_type": "code",
   "execution_count": 3,
   "id": "c1c25ef1-8b68-43fb-a111-edba81ed287c",
   "metadata": {
    "tags": []
   },
   "outputs": [],
   "source": [
    "from sklearn.model_selection import train_test_split"
   ]
  },
  {
   "cell_type": "code",
   "execution_count": 4,
   "id": "52520327-7d64-4ef5-beb2-5399efdc1df3",
   "metadata": {
    "tags": []
   },
   "outputs": [],
   "source": [
    "import matplotlib.pyplot as plt"
   ]
  },
  {
   "cell_type": "code",
   "execution_count": 5,
   "id": "5a9e059a-12db-43fa-b362-86c2f063b11e",
   "metadata": {
    "tags": []
   },
   "outputs": [],
   "source": [
    "from sklearn.linear_model import LinearRegression"
   ]
  },
  {
   "cell_type": "code",
   "execution_count": 6,
   "id": "69639e48-88dd-42c3-83e4-60147dc3311a",
   "metadata": {
    "tags": []
   },
   "outputs": [],
   "source": [
    "path = 'datasets/data-resource_2016_10_24_bangladesh-population-growth-ratio.csv'"
   ]
  },
  {
   "cell_type": "code",
   "execution_count": 7,
   "id": "d084deef-c6e1-456e-a57b-88ee210fd665",
   "metadata": {
    "tags": []
   },
   "outputs": [],
   "source": [
    "datasets=pd.read_csv(path)"
   ]
  },
  {
   "cell_type": "code",
   "execution_count": 8,
   "id": "87db1057-2f4b-405b-9398-56c1a7a0f979",
   "metadata": {
    "tags": []
   },
   "outputs": [
    {
     "data": {
      "text/html": [
       "<div>\n",
       "<style scoped>\n",
       "    .dataframe tbody tr th:only-of-type {\n",
       "        vertical-align: middle;\n",
       "    }\n",
       "\n",
       "    .dataframe tbody tr th {\n",
       "        vertical-align: top;\n",
       "    }\n",
       "\n",
       "    .dataframe thead th {\n",
       "        text-align: right;\n",
       "    }\n",
       "</style>\n",
       "<table border=\"1\" class=\"dataframe\">\n",
       "  <thead>\n",
       "    <tr style=\"text-align: right;\">\n",
       "      <th></th>\n",
       "      <th>Year</th>\n",
       "      <th>Population</th>\n",
       "      <th>Male</th>\n",
       "      <th>Female</th>\n",
       "    </tr>\n",
       "  </thead>\n",
       "  <tbody>\n",
       "    <tr>\n",
       "      <th>0</th>\n",
       "      <td>1971</td>\n",
       "      <td>65733076</td>\n",
       "      <td>34058589</td>\n",
       "      <td>31674487</td>\n",
       "    </tr>\n",
       "    <tr>\n",
       "      <th>1</th>\n",
       "      <td>1972</td>\n",
       "      <td>66997968</td>\n",
       "      <td>34713973</td>\n",
       "      <td>32283995</td>\n",
       "    </tr>\n",
       "    <tr>\n",
       "      <th>2</th>\n",
       "      <td>1973</td>\n",
       "      <td>68118479</td>\n",
       "      <td>35294549</td>\n",
       "      <td>32823930</td>\n",
       "    </tr>\n",
       "    <tr>\n",
       "      <th>3</th>\n",
       "      <td>1974</td>\n",
       "      <td>69248216</td>\n",
       "      <td>35879905</td>\n",
       "      <td>33368311</td>\n",
       "    </tr>\n",
       "    <tr>\n",
       "      <th>4</th>\n",
       "      <td>1975</td>\n",
       "      <td>70542557</td>\n",
       "      <td>36550548</td>\n",
       "      <td>33992009</td>\n",
       "    </tr>\n",
       "    <tr>\n",
       "      <th>5</th>\n",
       "      <td>1976</td>\n",
       "      <td>72088680</td>\n",
       "      <td>37351648</td>\n",
       "      <td>34737032</td>\n",
       "    </tr>\n",
       "    <tr>\n",
       "      <th>6</th>\n",
       "      <td>1977</td>\n",
       "      <td>73889336</td>\n",
       "      <td>38284630</td>\n",
       "      <td>35604706</td>\n",
       "    </tr>\n",
       "    <tr>\n",
       "      <th>7</th>\n",
       "      <td>1978</td>\n",
       "      <td>75898422</td>\n",
       "      <td>39325607</td>\n",
       "      <td>36572815</td>\n",
       "    </tr>\n",
       "    <tr>\n",
       "      <th>8</th>\n",
       "      <td>1979</td>\n",
       "      <td>78045163</td>\n",
       "      <td>40437908</td>\n",
       "      <td>37607255</td>\n",
       "    </tr>\n",
       "    <tr>\n",
       "      <th>9</th>\n",
       "      <td>1980</td>\n",
       "      <td>80253062</td>\n",
       "      <td>41581897</td>\n",
       "      <td>38671165</td>\n",
       "    </tr>\n",
       "    <tr>\n",
       "      <th>10</th>\n",
       "      <td>1981</td>\n",
       "      <td>82481879</td>\n",
       "      <td>42736725</td>\n",
       "      <td>39745154</td>\n",
       "    </tr>\n",
       "    <tr>\n",
       "      <th>11</th>\n",
       "      <td>1982</td>\n",
       "      <td>84733905</td>\n",
       "      <td>43903578</td>\n",
       "      <td>40830327</td>\n",
       "    </tr>\n",
       "    <tr>\n",
       "      <th>12</th>\n",
       "      <td>1983</td>\n",
       "      <td>87024720</td>\n",
       "      <td>45090528</td>\n",
       "      <td>41934192</td>\n",
       "    </tr>\n",
       "    <tr>\n",
       "      <th>13</th>\n",
       "      <td>1984</td>\n",
       "      <td>89370376</td>\n",
       "      <td>46305894</td>\n",
       "      <td>43064482</td>\n",
       "    </tr>\n",
       "    <tr>\n",
       "      <th>14</th>\n",
       "      <td>1985</td>\n",
       "      <td>91787361</td>\n",
       "      <td>47558218</td>\n",
       "      <td>44229143</td>\n",
       "    </tr>\n",
       "    <tr>\n",
       "      <th>15</th>\n",
       "      <td>1986</td>\n",
       "      <td>94282990</td>\n",
       "      <td>48851290</td>\n",
       "      <td>45431700</td>\n",
       "    </tr>\n",
       "    <tr>\n",
       "      <th>16</th>\n",
       "      <td>1987</td>\n",
       "      <td>96850030</td>\n",
       "      <td>50181363</td>\n",
       "      <td>46668667</td>\n",
       "    </tr>\n",
       "    <tr>\n",
       "      <th>17</th>\n",
       "      <td>1988</td>\n",
       "      <td>99464407</td>\n",
       "      <td>51535962</td>\n",
       "      <td>47928445</td>\n",
       "    </tr>\n",
       "    <tr>\n",
       "      <th>18</th>\n",
       "      <td>1989</td>\n",
       "      <td>102090061</td>\n",
       "      <td>52896405</td>\n",
       "      <td>49193656</td>\n",
       "    </tr>\n",
       "    <tr>\n",
       "      <th>19</th>\n",
       "      <td>1990</td>\n",
       "      <td>104691854</td>\n",
       "      <td>54244484</td>\n",
       "      <td>50447370</td>\n",
       "    </tr>\n",
       "    <tr>\n",
       "      <th>20</th>\n",
       "      <td>1991</td>\n",
       "      <td>107246408</td>\n",
       "      <td>55568087</td>\n",
       "      <td>51678321</td>\n",
       "    </tr>\n",
       "    <tr>\n",
       "      <th>21</th>\n",
       "      <td>1992</td>\n",
       "      <td>109748569</td>\n",
       "      <td>56864544</td>\n",
       "      <td>52884025</td>\n",
       "    </tr>\n",
       "    <tr>\n",
       "      <th>22</th>\n",
       "      <td>1993</td>\n",
       "      <td>112214907</td>\n",
       "      <td>58142439</td>\n",
       "      <td>54072468</td>\n",
       "    </tr>\n",
       "    <tr>\n",
       "      <th>23</th>\n",
       "      <td>1994</td>\n",
       "      <td>114678032</td>\n",
       "      <td>59418669</td>\n",
       "      <td>55259363</td>\n",
       "    </tr>\n",
       "    <tr>\n",
       "      <th>24</th>\n",
       "      <td>1995</td>\n",
       "      <td>117170739</td>\n",
       "      <td>60710227</td>\n",
       "      <td>56460512</td>\n",
       "    </tr>\n",
       "    <tr>\n",
       "      <th>25</th>\n",
       "      <td>1996</td>\n",
       "      <td>119707446</td>\n",
       "      <td>62024583</td>\n",
       "      <td>57682863</td>\n",
       "    </tr>\n",
       "    <tr>\n",
       "      <th>26</th>\n",
       "      <td>1997</td>\n",
       "      <td>122280616</td>\n",
       "      <td>63357832</td>\n",
       "      <td>58922784</td>\n",
       "    </tr>\n",
       "    <tr>\n",
       "      <th>27</th>\n",
       "      <td>1998</td>\n",
       "      <td>124871845</td>\n",
       "      <td>64700438</td>\n",
       "      <td>60171407</td>\n",
       "    </tr>\n",
       "    <tr>\n",
       "      <th>28</th>\n",
       "      <td>1999</td>\n",
       "      <td>127457928</td>\n",
       "      <td>66040377</td>\n",
       "      <td>61417551</td>\n",
       "    </tr>\n",
       "    <tr>\n",
       "      <th>29</th>\n",
       "      <td>2000</td>\n",
       "      <td>130013506</td>\n",
       "      <td>67364511</td>\n",
       "      <td>62648995</td>\n",
       "    </tr>\n",
       "    <tr>\n",
       "      <th>30</th>\n",
       "      <td>2001</td>\n",
       "      <td>132528402</td>\n",
       "      <td>68667566</td>\n",
       "      <td>63860836</td>\n",
       "    </tr>\n",
       "    <tr>\n",
       "      <th>31</th>\n",
       "      <td>2002</td>\n",
       "      <td>135002260</td>\n",
       "      <td>69949358</td>\n",
       "      <td>65052902</td>\n",
       "    </tr>\n",
       "    <tr>\n",
       "      <th>32</th>\n",
       "      <td>2003</td>\n",
       "      <td>137414315</td>\n",
       "      <td>71199127</td>\n",
       "      <td>66215188</td>\n",
       "    </tr>\n",
       "    <tr>\n",
       "      <th>33</th>\n",
       "      <td>2004</td>\n",
       "      <td>139721980</td>\n",
       "      <td>72394808</td>\n",
       "      <td>67327172</td>\n",
       "    </tr>\n",
       "    <tr>\n",
       "      <th>34</th>\n",
       "      <td>2005</td>\n",
       "      <td>141886883</td>\n",
       "      <td>73516520</td>\n",
       "      <td>68370363</td>\n",
       "    </tr>\n",
       "    <tr>\n",
       "      <th>35</th>\n",
       "      <td>2006</td>\n",
       "      <td>143884609</td>\n",
       "      <td>74551611</td>\n",
       "      <td>69332998</td>\n",
       "    </tr>\n",
       "    <tr>\n",
       "      <th>36</th>\n",
       "      <td>2007</td>\n",
       "      <td>145715963</td>\n",
       "      <td>75500499</td>\n",
       "      <td>70215464</td>\n",
       "    </tr>\n",
       "    <tr>\n",
       "      <th>37</th>\n",
       "      <td>2008</td>\n",
       "      <td>147422580</td>\n",
       "      <td>76384756</td>\n",
       "      <td>71037824</td>\n",
       "    </tr>\n",
       "    <tr>\n",
       "      <th>38</th>\n",
       "      <td>2009</td>\n",
       "      <td>149079155</td>\n",
       "      <td>77243085</td>\n",
       "      <td>71836070</td>\n",
       "    </tr>\n",
       "    <tr>\n",
       "      <th>39</th>\n",
       "      <td>2010</td>\n",
       "      <td>150761307</td>\n",
       "      <td>78114667</td>\n",
       "      <td>72646640</td>\n",
       "    </tr>\n",
       "    <tr>\n",
       "      <th>40</th>\n",
       "      <td>2011</td>\n",
       "      <td>152511195</td>\n",
       "      <td>79021345</td>\n",
       "      <td>73489850</td>\n",
       "    </tr>\n",
       "    <tr>\n",
       "      <th>41</th>\n",
       "      <td>2012</td>\n",
       "      <td>154331500</td>\n",
       "      <td>79964508</td>\n",
       "      <td>74366992</td>\n",
       "    </tr>\n",
       "    <tr>\n",
       "      <th>42</th>\n",
       "      <td>2013</td>\n",
       "      <td>156207391</td>\n",
       "      <td>80936472</td>\n",
       "      <td>75270919</td>\n",
       "    </tr>\n",
       "    <tr>\n",
       "      <th>43</th>\n",
       "      <td>2014</td>\n",
       "      <td>158117454</td>\n",
       "      <td>81926142</td>\n",
       "      <td>76191312</td>\n",
       "    </tr>\n",
       "    <tr>\n",
       "      <th>44</th>\n",
       "      <td>2015</td>\n",
       "      <td>160036578</td>\n",
       "      <td>82920507</td>\n",
       "      <td>77116071</td>\n",
       "    </tr>\n",
       "    <tr>\n",
       "      <th>45</th>\n",
       "      <td>2016</td>\n",
       "      <td>161957017</td>\n",
       "      <td>83915553</td>\n",
       "      <td>78041464</td>\n",
       "    </tr>\n",
       "  </tbody>\n",
       "</table>\n",
       "</div>"
      ],
      "text/plain": [
       "    Year  Population      Male    Female\n",
       "0   1971    65733076  34058589  31674487\n",
       "1   1972    66997968  34713973  32283995\n",
       "2   1973    68118479  35294549  32823930\n",
       "3   1974    69248216  35879905  33368311\n",
       "4   1975    70542557  36550548  33992009\n",
       "5   1976    72088680  37351648  34737032\n",
       "6   1977    73889336  38284630  35604706\n",
       "7   1978    75898422  39325607  36572815\n",
       "8   1979    78045163  40437908  37607255\n",
       "9   1980    80253062  41581897  38671165\n",
       "10  1981    82481879  42736725  39745154\n",
       "11  1982    84733905  43903578  40830327\n",
       "12  1983    87024720  45090528  41934192\n",
       "13  1984    89370376  46305894  43064482\n",
       "14  1985    91787361  47558218  44229143\n",
       "15  1986    94282990  48851290  45431700\n",
       "16  1987    96850030  50181363  46668667\n",
       "17  1988    99464407  51535962  47928445\n",
       "18  1989   102090061  52896405  49193656\n",
       "19  1990   104691854  54244484  50447370\n",
       "20  1991   107246408  55568087  51678321\n",
       "21  1992   109748569  56864544  52884025\n",
       "22  1993   112214907  58142439  54072468\n",
       "23  1994   114678032  59418669  55259363\n",
       "24  1995   117170739  60710227  56460512\n",
       "25  1996   119707446  62024583  57682863\n",
       "26  1997   122280616  63357832  58922784\n",
       "27  1998   124871845  64700438  60171407\n",
       "28  1999   127457928  66040377  61417551\n",
       "29  2000   130013506  67364511  62648995\n",
       "30  2001   132528402  68667566  63860836\n",
       "31  2002   135002260  69949358  65052902\n",
       "32  2003   137414315  71199127  66215188\n",
       "33  2004   139721980  72394808  67327172\n",
       "34  2005   141886883  73516520  68370363\n",
       "35  2006   143884609  74551611  69332998\n",
       "36  2007   145715963  75500499  70215464\n",
       "37  2008   147422580  76384756  71037824\n",
       "38  2009   149079155  77243085  71836070\n",
       "39  2010   150761307  78114667  72646640\n",
       "40  2011   152511195  79021345  73489850\n",
       "41  2012   154331500  79964508  74366992\n",
       "42  2013   156207391  80936472  75270919\n",
       "43  2014   158117454  81926142  76191312\n",
       "44  2015   160036578  82920507  77116071\n",
       "45  2016   161957017  83915553  78041464"
      ]
     },
     "execution_count": 8,
     "metadata": {},
     "output_type": "execute_result"
    }
   ],
   "source": [
    "datasets"
   ]
  },
  {
   "cell_type": "code",
   "execution_count": 9,
   "id": "b3f53325-44eb-4320-8f82-ea5b16a81561",
   "metadata": {
    "tags": []
   },
   "outputs": [],
   "source": [
    "datasets=datasets[datasets['Year']>1999]"
   ]
  },
  {
   "cell_type": "code",
   "execution_count": 46,
   "id": "ce4d86fd-d061-4b02-85a8-6ae95e6fe730",
   "metadata": {
    "tags": []
   },
   "outputs": [
    {
     "data": {
      "text/plain": [
       "<matplotlib.legend.Legend at 0x1c9a266d010>"
      ]
     },
     "execution_count": 46,
     "metadata": {},
     "output_type": "execute_result"
    },
    {
     "data": {
      "image/png": "[encoded data removed]",
      "text/plain": [
       "<Figure size 640x480 with 1 Axes>"
      ]
     },
     "metadata": {},
     "output_type": "display_data"
    }
   ],
   "source": [
    "plt.scatter(datasets['Year'], datasets['Population'], label=\"Population\", marker='*', color='red')\n",
    "\n",
    "# Plot Male data on the same plot\n",
    "plt.scatter(datasets['Year'], datasets['Male'], label=\"Male\", marker='*', color='black')\n",
    "\n",
    "# Plot female data on the same plot\n",
    "plt.scatter(datasets['Year'], datasets['Female'], label=\"Female\", marker='*', color='y')\n",
    "# Set axis labels and legend\n",
    "plt.xlabel(\"Year\")\n",
    "plt.ylabel(\"Population/Male/Femal\")\n",
    "plt.legend(loc=\"upper left\", facecolor=\"w\", edgecolor=\"k\", framealpha=0.5, shadow=False, fancybox=True)"
   ]
  },
  {
   "cell_type": "code",
   "execution_count": null,
   "id": "d995e2b0-ff15-46d2-a204-ea498b097e16",
   "metadata": {
    "tags": []
   },
   "outputs": [],
   "source": [
    "\n"
   ]
  },
  {
   "cell_type": "code",
   "execution_count": 47,
   "id": "afa15d60-701b-42fd-a5ea-d253801b978e",
   "metadata": {
    "tags": []
   },
   "outputs": [],
   "source": [
    "x=datasets[['Year']]\n",
    "y=datasets['Population']\n",
    "y_male=datasets['Male']\n",
    "y_female=datasets['Female']\n",
    "xtrain,xtest,ytrain,ytest=train_test_split(x,y,train_size=0.30,random_state=1)\n",
    "xtrain,xtest,male_train,male_test=train_test_split(x,y_male,train_size=0.30,random_state=1)\n",
    "xtrain,xtest,female_train,female_test=train_test_split(x,y_female,train_size=0.30,random_state=1)"
   ]
  },
  {
   "cell_type": "code",
   "execution_count": 48,
   "id": "f77d2785-e148-48d7-93b1-7779b8ed6215",
   "metadata": {
    "tags": []
   },
   "outputs": [],
   "source": [
    "rg=LinearRegression()\n",
    "male_rg=LinearRegression()\n",
    "female_rg=LinearRegression()"
   ]
  },
  {
   "cell_type": "code",
   "execution_count": 49,
   "id": "dce18cb8-fade-47ec-9614-c1d9f35f2bfc",
   "metadata": {
    "tags": []
   },
   "outputs": [
    {
     "data": {
      "text/html": [
       "<style>#sk-container-id-2 {color: black;}#sk-container-id-2 pre{padding: 0;}#sk-container-id-2 div.sk-toggleable {background-color: white;}#sk-container-id-2 label.sk-toggleable__label {cursor: pointer;display: block;width: 100%;margin-bottom: 0;padding: 0.3em;box-sizing: border-box;text-align: center;}#sk-container-id-2 label.sk-toggleable__label-arrow:before {content: \"▸\";float: left;margin-right: 0.25em;color: #696969;}#sk-container-id-2 label.sk-toggleable__label-arrow:hover:before {color: black;}#sk-container-id-2 div.sk-estimator:hover label.sk-toggleable__label-arrow:before {color: black;}#sk-container-id-2 div.sk-toggleable__content {max-height: 0;max-width: 0;overflow: hidden;text-align: left;background-color: #f0f8ff;}#sk-container-id-2 div.sk-toggleable__content pre {margin: 0.2em;color: black;border-radius: 0.25em;background-color: #f0f8ff;}#sk-container-id-2 input.sk-toggleable__control:checked~div.sk-toggleable__content {max-height: 200px;max-width: 100%;overflow: auto;}#sk-container-id-2 input.sk-toggleable__control:checked~label.sk-toggleable__label-arrow:before {content: \"▾\";}#sk-container-id-2 div.sk-estimator input.sk-toggleable__control:checked~label.sk-toggleable__label {background-color: #d4ebff;}#sk-container-id-2 div.sk-label input.sk-toggleable__control:checked~label.sk-toggleable__label {background-color: #d4ebff;}#sk-container-id-2 input.sk-hidden--visually {border: 0;clip: rect(1px 1px 1px 1px);clip: rect(1px, 1px, 1px, 1px);height: 1px;margin: -1px;overflow: hidden;padding: 0;position: absolute;width: 1px;}#sk-container-id-2 div.sk-estimator {font-family: monospace;background-color: #f0f8ff;border: 1px dotted black;border-radius: 0.25em;box-sizing: border-box;margin-bottom: 0.5em;}#sk-container-id-2 div.sk-estimator:hover {background-color: #d4ebff;}#sk-container-id-2 div.sk-parallel-item::after {content: \"\";width: 100%;border-bottom: 1px solid gray;flex-grow: 1;}#sk-container-id-2 div.sk-label:hover label.sk-toggleable__label {background-color: #d4ebff;}#sk-container-id-2 div.sk-serial::before {content: \"\";position: absolute;border-left: 1px solid gray;box-sizing: border-box;top: 0;bottom: 0;left: 50%;z-index: 0;}#sk-container-id-2 div.sk-serial {display: flex;flex-direction: column;align-items: center;background-color: white;padding-right: 0.2em;padding-left: 0.2em;position: relative;}#sk-container-id-2 div.sk-item {position: relative;z-index: 1;}#sk-container-id-2 div.sk-parallel {display: flex;align-items: stretch;justify-content: center;background-color: white;position: relative;}#sk-container-id-2 div.sk-item::before, #sk-container-id-2 div.sk-parallel-item::before {content: \"\";position: absolute;border-left: 1px solid gray;box-sizing: border-box;top: 0;bottom: 0;left: 50%;z-index: -1;}#sk-container-id-2 div.sk-parallel-item {display: flex;flex-direction: column;z-index: 1;position: relative;background-color: white;}#sk-container-id-2 div.sk-parallel-item:first-child::after {align-self: flex-end;width: 50%;}#sk-container-id-2 div.sk-parallel-item:last-child::after {align-self: flex-start;width: 50%;}#sk-container-id-2 div.sk-parallel-item:only-child::after {width: 0;}#sk-container-id-2 div.sk-dashed-wrapped {border: 1px dashed gray;margin: 0 0.4em 0.5em 0.4em;box-sizing: border-box;padding-bottom: 0.4em;background-color: white;}#sk-container-id-2 div.sk-label label {font-family: monospace;font-weight: bold;display: inline-block;line-height: 1.2em;}#sk-container-id-2 div.sk-label-container {text-align: center;}#sk-container-id-2 div.sk-container {/* jupyter's `normalize.less` sets `[hidden] { display: none; }` but bootstrap.min.css set `[hidden] { display: none !important; }` so we also need the `!important` here to be able to override the default hidden behavior on the sphinx rendered scikit-learn.org. See: https://github.com/scikit-learn/scikit-learn/issues/21755 */display: inline-block !important;position: relative;}#sk-container-id-2 div.sk-text-repr-fallback {display: none;}</style><div id=\"sk-container-id-2\" class=\"sk-top-container\"><div class=\"sk-text-repr-fallback\"><pre>LinearRegression()</pre><b>In a Jupyter environment, please rerun this cell to show the HTML representation or trust the notebook. <br />On GitHub, the HTML representation is unable to render, please try loading this page with nbviewer.org.</b></div><div class=\"sk-container\" hidden><div class=\"sk-item\"><div class=\"sk-estimator sk-toggleable\"><input class=\"sk-toggleable__control sk-hidden--visually\" id=\"sk-estimator-id-2\" type=\"checkbox\" checked><label for=\"sk-estimator-id-2\" class=\"sk-toggleable__label sk-toggleable__label-arrow\">LinearRegression</label><div class=\"sk-toggleable__content\"><pre>LinearRegression()</pre></div></div></div></div></div>"
      ],
      "text/plain": [
       "LinearRegression()"
      ]
     },
     "execution_count": 49,
     "metadata": {},
     "output_type": "execute_result"
    }
   ],
   "source": [
    "rg.fit(xtrain,ytrain)\n",
    "male_rg.fit(xtrain,male_train)\n",
    "female_rg.fit(xtrain,female_train)"
   ]
  },
  {
   "cell_type": "code",
   "execution_count": 50,
   "id": "3ac73315-8937-415c-9879-1acfc84d2e76",
   "metadata": {
    "tags": []
   },
   "outputs": [
    {
     "name": "stderr",
     "output_type": "stream",
     "text": [
      "C:\\Users\\Ovi\\AppData\\Roaming\\Python\\Python311\\site-packages\\sklearn\\base.py:465: UserWarning: X does not have valid feature names, but LinearRegression was fitted with feature names\n",
      "  warnings.warn(\n"
     ]
    },
    {
     "data": {
      "text/plain": [
       "175569651.5999999"
      ]
     },
     "execution_count": 50,
     "metadata": {},
     "output_type": "execute_result"
    }
   ],
   "source": [
    "total_population = float(rg.predict([[2024]]))\n",
    "total_population"
   ]
  },
  {
   "cell_type": "code",
   "execution_count": 51,
   "id": "4453d21c-3647-4a42-ab4d-259fde151617",
   "metadata": {
    "tags": []
   },
   "outputs": [
    {
     "name": "stderr",
     "output_type": "stream",
     "text": [
      "C:\\Users\\Ovi\\AppData\\Roaming\\Python\\Python311\\site-packages\\sklearn\\base.py:465: UserWarning: X does not have valid feature names, but LinearRegression was fitted with feature names\n",
      "  warnings.warn(\n"
     ]
    },
    {
     "data": {
      "text/plain": [
       "84600919.79999995"
      ]
     },
     "execution_count": 51,
     "metadata": {},
     "output_type": "execute_result"
    }
   ],
   "source": [
    "total_female=float(female_rg.predict([[2024]]))\n",
    "total_female"
   ]
  },
  {
   "cell_type": "code",
   "execution_count": 52,
   "id": "8611d7c3-fc7d-4d7f-a042-5af3230b21c5",
   "metadata": {
    "tags": []
   },
   "outputs": [
    {
     "name": "stderr",
     "output_type": "stream",
     "text": [
      "C:\\Users\\Ovi\\AppData\\Roaming\\Python\\Python311\\site-packages\\sklearn\\base.py:465: UserWarning: X does not have valid feature names, but LinearRegression was fitted with feature names\n",
      "  warnings.warn(\n"
     ]
    },
    {
     "data": {
      "text/plain": [
       "90968731.79999995"
      ]
     },
     "execution_count": 52,
     "metadata": {},
     "output_type": "execute_result"
    }
   ],
   "source": [
    "total_male=float(male_rg.predict([[2024]]))\n",
    "total_male"
   ]
  },
  {
   "cell_type": "code",
   "execution_count": 53,
   "id": "60c82b85-149c-4faa-8f75-c58f0c2129bb",
   "metadata": {
    "tags": []
   },
   "outputs": [],
   "source": [
    "from sklearn.metrics import r2_score\n",
    "y_pred = rg.predict(xtest)\n",
    "r2_toatal = r2_score(ytest, y_pred)"
   ]
  },
  {
   "cell_type": "code",
   "execution_count": 54,
   "id": "d692ba33-503b-4998-8176-7f9349a6dd23",
   "metadata": {
    "tags": []
   },
   "outputs": [
    {
     "data": {
      "text/plain": [
       "0.9857493890655408"
      ]
     },
     "execution_count": 54,
     "metadata": {},
     "output_type": "execute_result"
    }
   ],
   "source": [
    "r2_toatal"
   ]
  },
  {
   "cell_type": "code",
   "execution_count": 55,
   "id": "f98ea818-0e00-4efa-ba3d-12c9c6a3cbbd",
   "metadata": {},
   "outputs": [],
   "source": [
    "y_pred = male_rg.predict(xtest)\n",
    "r2_male = r2_score(male_test, y_pred)"
   ]
  },
  {
   "cell_type": "code",
   "execution_count": 56,
   "id": "b890bde7-fe0e-4528-819f-b7a50ea79744",
   "metadata": {
    "tags": []
   },
   "outputs": [
    {
     "data": {
      "text/plain": [
       "0.9857493981356481"
      ]
     },
     "execution_count": 56,
     "metadata": {},
     "output_type": "execute_result"
    }
   ],
   "source": [
    "r2_male"
   ]
  },
  {
   "cell_type": "code",
   "execution_count": 57,
   "id": "08f94384-2511-420a-9821-d3cfdeb232e6",
   "metadata": {
    "tags": []
   },
   "outputs": [],
   "source": [
    "y_pred = female_rg.predict(xtest)\n",
    "r2_female = r2_score(female_test, y_pred)"
   ]
  },
  {
   "cell_type": "code",
   "execution_count": 58,
   "id": "c6243a40-0b02-49f4-be85-bdbfa381eec5",
   "metadata": {
    "tags": []
   },
   "outputs": [
    {
     "data": {
      "text/plain": [
       "0.9857493793127284"
      ]
     },
     "execution_count": 58,
     "metadata": {},
     "output_type": "execute_result"
    }
   ],
   "source": [
    "r2_female"
   ]
  },
  {
   "cell_type": "code",
   "execution_count": 59,
   "id": "83907960-56b0-4153-a889-39b449ec5400",
   "metadata": {
    "tags": []
   },
   "outputs": [
    {
     "name": "stdout",
     "output_type": "stream",
     "text": [
      "Total Population Prediction in 2024 =  175569651.5999999\n",
      "Total Male Population Prediction in 2024 =  90968731.79999995\n",
      "Total Female Population Prediction in 2024 =  84600919.79999995\n"
     ]
    }
   ],
   "source": [
    "print(\"Total Population Prediction in 2024 = \",total_population)\n",
    "print(\"Total Male Population Prediction in 2024 = \",total_male)\n",
    "print(\"Total Female Population Prediction in 2024 = \",total_female)"
   ]
  },
  {
   "cell_type": "code",
   "execution_count": null,
   "id": "cbe525e5-2855-45a7-887c-e6bc5a2cb7c4",
   "metadata": {
    "tags": []
   },
   "outputs": [],
   "source": []
  },
  {
   "cell_type": "code",
   "execution_count": null,
   "id": "8ba3e163-052e-48ba-8507-cf09ad14ec41",
   "metadata": {
    "tags": []
   },
   "outputs": [],
   "source": []
  },
  {
   "cell_type": "code",
   "execution_count": null,
   "id": "ba761dbb-eb98-42eb-984a-e8f005663ec1",
   "metadata": {},
   "outputs": [],
   "source": []
  }
 ],
 "metadata": {
  "kernelspec": {
   "display_name": "Python 3 (ipykernel)",
   "language": "python",
   "name": "python3"
  },
  "language_info": {
   "codemirror_mode": {
    "name": "ipython",
    "version": 3
   },
   "file_extension": ".py",
   "mimetype": "text/x-python",
   "name": "python",
   "nbconvert_exporter": "python",
   "pygments_lexer": "ipython3",
   "version": "3.11.5"
  }
 },
 "nbformat": 4,
 "nbformat_minor": 5
}
